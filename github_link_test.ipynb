{
  "nbformat": 4,
  "nbformat_minor": 0,
  "metadata": {
    "colab": {
      "provenance": [],
      "authorship_tag": "ABX9TyMVrrhDsV8IsaDkT+C2+2Tr"
    },
    "kernelspec": {
      "name": "python3",
      "display_name": "Python 3"
    },
    "language_info": {
      "name": "python"
    }
  },
  "cells": [
    {
      "cell_type": "code",
      "execution_count": null,
      "metadata": {
        "colab": {
          "base_uri": "https://localhost:8080/"
        },
        "id": "tcMEwheAHw5l",
        "outputId": "40b541ac-983c-4fa8-85d9-25187b24b93a"
      },
      "outputs": [
        {
          "output_type": "stream",
          "name": "stdout",
          "text": [
            "hello world\n"
          ]
        }
      ],
      "source": [
        "#hello world!\n",
        "print('hello world')"
      ]
    },
    {
      "cell_type": "markdown",
      "source": [
        "after delete local file and reopen from github\n",
        "testing save function and where it goes to"
      ],
      "metadata": {
        "id": "Dq1bkeJUJOkO"
      }
    },
    {
      "cell_type": "markdown",
      "source": [
        "one more time\n",
        "\n",
        "https://stackoverflow.com/questions/70397572/colab-cant-save-changes-to-github-public-and-private-reports\n",
        "\n",
        "\n",
        "Unfortunately, I suspect you're just running into an issue of bad UX on our side. In order to save back to GitHub you always have to use \"Save a copy in GitHub\". Colab doesn't yet support auto-save or Ctrl+S saving back to GitHub because it requires making a commit back to the repo but it's a bit misleading that the intended save flow looks like it's making another copy. So, work-around is \"Save a copy in GitHub\" -- hopefully that works for you for now."
      ],
      "metadata": {
        "id": "5QvzlOXTJ2uR"
      }
    }
  ]
}